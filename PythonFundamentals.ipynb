{
 "cells": [
  {
   "cell_type": "code",
   "execution_count": 1,
   "metadata": {
    "id": "bIBt_FTuvB7O"
   },
   "outputs": [],
   "source": [
    "pirates = {\n",
    "    \"Pirate\":[\"Blackbeard\", \"Anne Bonny\", \"Calico Jack\", \"Cheung Po Tsai\", \"Grace O'Malley\", \"Mary Read\", \"Sayyida al Hurra\", \"Ching Shih\", \"Sir Francis Drake\", \"Jean Lafittte\"],\n",
    "    \"Sex\":[\"M\", \"F\", \"M\", \"M\", \"F\", \"F\", \"F\", \"F\", \"M\", \"M\"],\n",
    "    \"Age at Death\":[40, 24, 37, 39, 73, 36, 75, 69, 56, 46],\n",
    "    \"Height\":[6.4, 5.6, 5.6, 5.3, 5.0, 5.1, 0.0, 5.3, 5.5, 6.2],\n",
    "    \"Skull and Crossbones\":[False, True, True, False, False, True, False, False, False, False]\n",
    "}"
   ]
  },
  {
   "cell_type": "code",
   "execution_count": 2,
   "metadata": {},
   "outputs": [
    {
     "name": "stdout",
     "output_type": "stream",
     "text": [
      "Blackbeard\n",
      "M\n",
      "40\n",
      "6.4\n",
      "False\n"
     ]
    }
   ],
   "source": [
    "for taco in pirates:\n",
    "    print(pirates[taco][0])"
   ]
  },
  {
   "cell_type": "code",
   "execution_count": 3,
   "metadata": {
    "scrolled": true
   },
   "outputs": [
    {
     "name": "stdout",
     "output_type": "stream",
     "text": [
      "Blackbeard\n",
      "# 1\n",
      "Anne Bonny\n",
      "# 2\n",
      "Calico Jack\n",
      "# 3\n",
      "Cheung Po Tsai\n",
      "# 4\n",
      "Grace O'Malley\n",
      "# 5\n",
      "Mary Read\n",
      "# 6\n",
      "Sayyida al Hurra\n",
      "# 7\n",
      "Ching Shih\n",
      "# 8\n",
      "Sir Francis Drake\n",
      "# 9\n",
      "Jean Lafittte\n",
      "# 10\n",
      "40\n",
      "# 1\n",
      "24\n",
      "# 2\n",
      "37\n",
      "# 3\n",
      "39\n",
      "# 4\n",
      "73\n",
      "# 5\n",
      "36\n",
      "# 6\n",
      "75\n",
      "# 7\n",
      "69\n",
      "# 8\n",
      "56\n",
      "# 9\n",
      "46\n",
      "# 10\n",
      "False\n",
      "# 1\n",
      "True\n",
      "# 2\n",
      "True\n",
      "# 3\n",
      "False\n",
      "# 4\n",
      "False\n",
      "# 5\n",
      "True\n",
      "# 6\n",
      "False\n",
      "# 7\n",
      "False\n",
      "# 8\n",
      "False\n",
      "# 9\n",
      "False\n",
      "# 10\n"
     ]
    }
   ],
   "source": [
    "#print(pirates[\"Pirate\"])\n",
    "#print(pirates[\"Age at Death\"])\n",
    "#print(pirates[\"Skull and Crossbones\"])\n",
    "countp = 0\n",
    "counta = 0\n",
    "counts = 0\n",
    "for pirate in pirates[\"Pirate\"]:\n",
    "    print(pirate)\n",
    "    countp = countp + 1\n",
    "    print(\"#\", countp)\n",
    "for age in pirates[\"Age at Death\"]:\n",
    "    print(age)\n",
    "    counta = counta + 1\n",
    "    print(\"#\", counta)\n",
    "for skulls in pirates[\"Skull and Crossbones\"]:\n",
    "    print(skulls)\n",
    "    counts = counts + 1\n",
    "    print(\"#\", counts)"
   ]
  },
  {
   "cell_type": "code",
   "execution_count": 4,
   "metadata": {},
   "outputs": [
    {
     "name": "stdout",
     "output_type": "stream",
     "text": [
      "False\n",
      "False\n",
      "False\n",
      "False\n",
      "True\n",
      "False\n",
      "False\n",
      "True\n",
      "True\n",
      "False\n"
     ]
    }
   ],
   "source": [
    "for skull in reversed(pirates[\"Skull and Crossbones\"]):\n",
    "    print(skull)\n",
    "\n",
    "#newlist = pirates[\"Skull and Crossbones\"]\n",
    "#newlist.reverse()\n",
    "#print(newlist)"
   ]
  },
  {
   "cell_type": "code",
   "execution_count": 5,
   "metadata": {},
   "outputs": [
    {
     "name": "stdout",
     "output_type": "stream",
     "text": [
      "Number of flags featuring skull and crossbones is 3\n"
     ]
    }
   ],
   "source": [
    "trueCount = 0\n",
    "for trueFlag in pirates[\"Skull and Crossbones\"]:\n",
    "    if trueFlag == True:\n",
    "        trueCount = trueCount + 1\n",
    "print(\"Number of flags featuring skull and crossbones is\", trueCount)    "
   ]
  },
  {
   "cell_type": "code",
   "execution_count": 6,
   "metadata": {},
   "outputs": [
    {
     "name": "stdout",
     "output_type": "stream",
     "text": [
      "43.6 55.4\n"
     ]
    }
   ],
   "source": [
    "maleTotal = 0\n",
    "femaleTotal = 0\n",
    "maleCount = 0\n",
    "femaleCount = 0\n",
    "\n",
    "for i in range(0, len(pirates[\"Pirate\"])):\n",
    "    if pirates[\"Sex\"][i] == \"M\":\n",
    "        maleCount += 1\n",
    "        maleTotal += pirates[\"Age at Death\"][i]\n",
    "    else:\n",
    "        femaleCount += 1\n",
    "        femaleTotal += pirates[\"Age at Death\"][i]\n",
    "\n",
    "maleAvg = maleTotal/maleCount\n",
    "femaleAvg = femaleTotal/femaleCount\n",
    "\n",
    "print(maleAvg, femaleAvg)"
   ]
  },
  {
   "cell_type": "code",
   "execution_count": 7,
   "metadata": {
    "scrolled": true
   },
   "outputs": [
    {
     "name": "stdout",
     "output_type": "stream",
     "text": [
      "2\n",
      "10\n",
      "20.0 %\n"
     ]
    }
   ],
   "source": [
    "higherThan6 = 0\n",
    "pirateCount = 0\n",
    "\n",
    "for i in range(0, len(pirates[\"Pirate\"])):\n",
    "    if pirates[\"Height\"][i] > 6:\n",
    "        higherThan6 += 1\n",
    "    pirateCount += 1\n",
    "    \n",
    "percentHigher = higherThan6/pirateCount\n",
    "print(higherThan6)\n",
    "print(pirateCount)\n",
    "print(percentHigher*100, \"%\")\n"
   ]
  },
  {
   "cell_type": "code",
   "execution_count": null,
   "metadata": {},
   "outputs": [],
   "source": []
  }
 ],
 "metadata": {
  "colab": {
   "provenance": []
  },
  "kernelspec": {
   "display_name": "Python 3 (ipykernel)",
   "language": "python",
   "name": "python3"
  },
  "language_info": {
   "codemirror_mode": {
    "name": "ipython",
    "version": 3
   },
   "file_extension": ".py",
   "mimetype": "text/x-python",
   "name": "python",
   "nbconvert_exporter": "python",
   "pygments_lexer": "ipython3",
   "version": "3.9.13"
  }
 },
 "nbformat": 4,
 "nbformat_minor": 1
}
