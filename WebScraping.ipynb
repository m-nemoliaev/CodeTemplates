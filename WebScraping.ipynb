{
 "cells": [
  {
   "cell_type": "code",
   "execution_count": 1,
   "id": "469c4bb9",
   "metadata": {},
   "outputs": [],
   "source": [
    "#pip install beautifulsoup4"
   ]
  },
  {
   "cell_type": "code",
   "execution_count": 2,
   "id": "3fc93bc7",
   "metadata": {},
   "outputs": [],
   "source": [
    "#pip install html5lib"
   ]
  },
  {
   "cell_type": "code",
   "execution_count": 26,
   "id": "9e475432",
   "metadata": {},
   "outputs": [],
   "source": [
    "from bs4 import BeautifulSoup\n",
    "import requests\n",
    "import seaborn as sns"
   ]
  },
  {
   "cell_type": "code",
   "execution_count": 4,
   "id": "d96e894e",
   "metadata": {},
   "outputs": [
    {
     "data": {
      "text/plain": [
       "'\\nurl = \"https://en.wikipedia.org/wiki/Metro-2\"  # Replace with the URL you want to read\\nresponse = requests.get(url)\\n\\n# Check if the request was successful\\nif response.status_code == 200:\\n    html_content = response.text\\nelse:\\n    print(\"Failed to retrieve the web page.\")\\n'"
      ]
     },
     "execution_count": 4,
     "metadata": {},
     "output_type": "execute_result"
    }
   ],
   "source": [
    "\"\"\"\n",
    "url = \"https://en.wikipedia.org/wiki/Metro-2\"  # Replace with the URL you want to read\n",
    "response = requests.get(url)\n",
    "\n",
    "# Check if the request was successful\n",
    "if response.status_code == 200:\n",
    "    html_content = response.text\n",
    "else:\n",
    "    print(\"Failed to retrieve the web page.\")\n",
    "\"\"\""
   ]
  },
  {
   "cell_type": "code",
   "execution_count": 5,
   "id": "c56b478f",
   "metadata": {},
   "outputs": [],
   "source": [
    "#soup = BeautifulSoup(html_content, 'html5lib')"
   ]
  },
  {
   "cell_type": "code",
   "execution_count": 6,
   "id": "699fb81a",
   "metadata": {},
   "outputs": [],
   "source": [
    "#soup"
   ]
  },
  {
   "cell_type": "code",
   "execution_count": 7,
   "id": "5030c3b8",
   "metadata": {
    "scrolled": true
   },
   "outputs": [
    {
     "data": {
      "text/plain": [
       "'\\nurl1 = \"https://en.wikipedia.org/wiki/List_of_people_who_have_lived_in_airports\"\\nresponse1 = requests.get(url1)\\nsoup1 = BeautifulSoup(response1.text, \"html5lib\")\\n'"
      ]
     },
     "execution_count": 7,
     "metadata": {},
     "output_type": "execute_result"
    }
   ],
   "source": [
    "#teacher example\n",
    "\"\"\"\n",
    "url1 = \"https://en.wikipedia.org/wiki/List_of_people_who_have_lived_in_airports\"\n",
    "response1 = requests.get(url1)\n",
    "soup1 = BeautifulSoup(response1.text, \"html5lib\")\n",
    "\"\"\""
   ]
  },
  {
   "cell_type": "code",
   "execution_count": 8,
   "id": "b2026b6f",
   "metadata": {},
   "outputs": [],
   "source": [
    "#soup1"
   ]
  },
  {
   "cell_type": "code",
   "execution_count": 9,
   "id": "acb877c3",
   "metadata": {},
   "outputs": [
    {
     "data": {
      "text/plain": [
       "\"\\narticle_links = soup.find_all('a')\\narticle_links1 = soup1.find_all('a')\\nprint(len(article_links))\\nprint(len(article_links1))\\n\""
      ]
     },
     "execution_count": 9,
     "metadata": {},
     "output_type": "execute_result"
    }
   ],
   "source": [
    "\"\"\"\n",
    "article_links = soup.find_all('a')\n",
    "article_links1 = soup1.find_all('a')\n",
    "print(len(article_links))\n",
    "print(len(article_links1))\n",
    "\"\"\""
   ]
  },
  {
   "cell_type": "code",
   "execution_count": 17,
   "id": "23e97d85",
   "metadata": {},
   "outputs": [
    {
     "data": {
      "text/plain": [
       "'\\nlinks = 0\\nimages = 0\\n#list of urls, lots of them\\nlist_urls = [\"https://en.wikipedia.org/wiki/Corporal_Jackie\", \"https://en.wikipedia.org/wiki/Dickin_Medal\", \"https://en.wikipedia.org/wiki/Moose_cavalry\",\\n            \"https://en.wikipedia.org/wiki/Sergeant_Stubby\", \"https://en.wikipedia.org/wiki/United_States_Camel_Corps\", \"https://en.wikipedia.org/wiki/Wojtek_(bear)\",\\n            \"https://en.wikipedia.org/wiki/1998_Sokcho_submarine_incident\", \"https://en.wikipedia.org/wiki/2022_Chornobaivka_attacks\", \"https://en.wikipedia.org/wiki/Anglo-Zanzibar_War\",\\n            \"https://en.wikipedia.org/wiki/Attack_of_the_Dead_Men\", \"https://en.wikipedia.org/wiki/Bahia_incident\", \"https://en.wikipedia.org/wiki/Battle_of_Castle_Itter\",\\n            \"https://en.wikipedia.org/wiki/Battle_of_Doma%C5%BElice\", \"https://en.wikipedia.org/wiki/Battle_of_Fishguard\", \"https://en.wikipedia.org/wiki/Battle_of_Kar%C3%A1nsebes\",\\n            \"https://en.wikipedia.org/wiki/Battle_of_Lake_Baikal\", \"https://en.wikipedia.org/wiki/Battle_of_Tanga\", \"https://en.wikipedia.org/wiki/Battle_of_the_Eclipse\",\\n            \"https://en.wikipedia.org/wiki/Battle_of_the_Herrings\", \"https://en.wikipedia.org/wiki/British_invasion_of_Iceland\", \"https://en.wikipedia.org/wiki/Chen_Sheng_and_Wu_Guang_uprising\", \\n            \"https://en.wikipedia.org/wiki/Dai_Hong_Dan_incident\", \"https://en.wikipedia.org/wiki/Emu_War\", \"https://en.wikipedia.org/wiki/Flagstaff_War\",\\n            \"https://en.wikipedia.org/wiki/Football_War\", \"https://en.wikipedia.org/wiki/Gombe_Chimpanzee_War\", \"https://en.wikipedia.org/wiki/If_Day\",\\n            \"https://en.wikipedia.org/wiki/Iowa_Cow_War\", \"https://en.wikipedia.org/wiki/Lobster_War\", \"https://en.wikipedia.org/wiki/Makiivka_military_quarters_shelling\", \\n            \"https://en.wikipedia.org/wiki/Operation_Blackcock\", \"https://en.wikipedia.org/wiki/Operation_Cottage\", \"https://en.wikipedia.org/wiki/Operation_Mincemeat\",\\n            \"https://en.wikipedia.org/wiki/Korean_axe_murder_incident\", \"https://en.wikipedia.org/wiki/Operation_Pig_Bristle\", \"https://en.wikipedia.org/wiki/Operation_Red_Dog\",\\n            \"https://en.wikipedia.org/wiki/Operation_Tamarisk\", \"https://en.wikipedia.org/wiki/Operation_Wikinger\", \"https://en.wikipedia.org/wiki/Pastry_War\",\\n            \"https://en.wikipedia.org/wiki/Pig_War_(1859)\", \"https://en.wikipedia.org/wiki/Taiping_Rebellion\", \"https://en.wikipedia.org/wiki/Three_Hundred_and_Thirty_Five_Years%27_War\",\\n            \"https://en.wikipedia.org/wiki/Toledo_War\", \"https://en.wikipedia.org/wiki/Toyota_War\", \"https://en.wikipedia.org/wiki/Turkish_Abductions\", \\n            \"https://en.wikipedia.org/wiki/War_of_the_Bucket\", \"https://en.wikipedia.org/wiki/War_of_Jenkins%27_Ear\", \"https://en.wikipedia.org/wiki/Incident_at_Petrich\",\\n            \"https://en.wikipedia.org/wiki/War_of_the_Insane\", \"https://en.wikipedia.org/wiki/War_of_the_League_of_Cambrai\", \"https://en.wikipedia.org/wiki/War_Plan_Red\",\\n            ]\\n\\nfor i in range(len(list_urls)):\\n    url = list_urls[i] \\n    response = requests.get(url)\\n    soup = BeautifulSoup(response.text, \\'html5lib\\')\\n    ar_l = soup.find_all(\\'a\\')\\n    ar_i = soup.find_all(\\'img\\')\\n    links = links +len(ar_l)\\n    images = images + len(ar_i)\\nprint(\"Total links\", links, \"Avg links\", links/len(list_urls))\\nprint(\"Total images\", images, \"Avg images\", images/len(list_urls))\\n'"
      ]
     },
     "execution_count": 17,
     "metadata": {},
     "output_type": "execute_result"
    }
   ],
   "source": [
    "\"\"\"\n",
    "links = 0\n",
    "images = 0\n",
    "#list of urls, lots of them\n",
    "list_urls = [\"https://en.wikipedia.org/wiki/Corporal_Jackie\", \"https://en.wikipedia.org/wiki/Dickin_Medal\", \"https://en.wikipedia.org/wiki/Moose_cavalry\",\n",
    "            \"https://en.wikipedia.org/wiki/Sergeant_Stubby\", \"https://en.wikipedia.org/wiki/United_States_Camel_Corps\", \"https://en.wikipedia.org/wiki/Wojtek_(bear)\",\n",
    "            \"https://en.wikipedia.org/wiki/1998_Sokcho_submarine_incident\", \"https://en.wikipedia.org/wiki/2022_Chornobaivka_attacks\", \"https://en.wikipedia.org/wiki/Anglo-Zanzibar_War\",\n",
    "            \"https://en.wikipedia.org/wiki/Attack_of_the_Dead_Men\", \"https://en.wikipedia.org/wiki/Bahia_incident\", \"https://en.wikipedia.org/wiki/Battle_of_Castle_Itter\",\n",
    "            \"https://en.wikipedia.org/wiki/Battle_of_Doma%C5%BElice\", \"https://en.wikipedia.org/wiki/Battle_of_Fishguard\", \"https://en.wikipedia.org/wiki/Battle_of_Kar%C3%A1nsebes\",\n",
    "            \"https://en.wikipedia.org/wiki/Battle_of_Lake_Baikal\", \"https://en.wikipedia.org/wiki/Battle_of_Tanga\", \"https://en.wikipedia.org/wiki/Battle_of_the_Eclipse\",\n",
    "            \"https://en.wikipedia.org/wiki/Battle_of_the_Herrings\", \"https://en.wikipedia.org/wiki/British_invasion_of_Iceland\", \"https://en.wikipedia.org/wiki/Chen_Sheng_and_Wu_Guang_uprising\", \n",
    "            \"https://en.wikipedia.org/wiki/Dai_Hong_Dan_incident\", \"https://en.wikipedia.org/wiki/Emu_War\", \"https://en.wikipedia.org/wiki/Flagstaff_War\",\n",
    "            \"https://en.wikipedia.org/wiki/Football_War\", \"https://en.wikipedia.org/wiki/Gombe_Chimpanzee_War\", \"https://en.wikipedia.org/wiki/If_Day\",\n",
    "            \"https://en.wikipedia.org/wiki/Iowa_Cow_War\", \"https://en.wikipedia.org/wiki/Lobster_War\", \"https://en.wikipedia.org/wiki/Makiivka_military_quarters_shelling\", \n",
    "            \"https://en.wikipedia.org/wiki/Operation_Blackcock\", \"https://en.wikipedia.org/wiki/Operation_Cottage\", \"https://en.wikipedia.org/wiki/Operation_Mincemeat\",\n",
    "            \"https://en.wikipedia.org/wiki/Korean_axe_murder_incident\", \"https://en.wikipedia.org/wiki/Operation_Pig_Bristle\", \"https://en.wikipedia.org/wiki/Operation_Red_Dog\",\n",
    "            \"https://en.wikipedia.org/wiki/Operation_Tamarisk\", \"https://en.wikipedia.org/wiki/Operation_Wikinger\", \"https://en.wikipedia.org/wiki/Pastry_War\",\n",
    "            \"https://en.wikipedia.org/wiki/Pig_War_(1859)\", \"https://en.wikipedia.org/wiki/Taiping_Rebellion\", \"https://en.wikipedia.org/wiki/Three_Hundred_and_Thirty_Five_Years%27_War\",\n",
    "            \"https://en.wikipedia.org/wiki/Toledo_War\", \"https://en.wikipedia.org/wiki/Toyota_War\", \"https://en.wikipedia.org/wiki/Turkish_Abductions\", \n",
    "            \"https://en.wikipedia.org/wiki/War_of_the_Bucket\", \"https://en.wikipedia.org/wiki/War_of_Jenkins%27_Ear\", \"https://en.wikipedia.org/wiki/Incident_at_Petrich\",\n",
    "            \"https://en.wikipedia.org/wiki/War_of_the_Insane\", \"https://en.wikipedia.org/wiki/War_of_the_League_of_Cambrai\", \"https://en.wikipedia.org/wiki/War_Plan_Red\",\n",
    "            ]\n",
    "\n",
    "for i in range(len(list_urls)):\n",
    "    url = list_urls[i] \n",
    "    response = requests.get(url)\n",
    "    soup = BeautifulSoup(response.text, 'html5lib')\n",
    "    ar_l = soup.find_all('a')\n",
    "    ar_i = soup.find_all('img')\n",
    "    links = links +len(ar_l)\n",
    "    images = images + len(ar_i)\n",
    "print(\"Total links\", links, \"Avg links\", links/len(list_urls))\n",
    "print(\"Total images\", images, \"Avg images\", images/len(list_urls))\n",
    "\"\"\""
   ]
  },
  {
   "cell_type": "code",
   "execution_count": 23,
   "id": "a2a27df3",
   "metadata": {},
   "outputs": [
    {
     "name": "stdout",
     "output_type": "stream",
     "text": [
      "Total links 26282 Avg links 262.82\n",
      "Total images 1616 Avg images 16.16\n"
     ]
    }
   ],
   "source": [
    "links = 0\n",
    "images = 0\n",
    "#list of urls, lots of them\n",
    "list_urls = [\"https://en.wikipedia.org/wiki/Special:Random\", \"https://en.wikipedia.org/wiki/Special:Random\", \"https://en.wikipedia.org/wiki/Special:Random\",\n",
    "             \"https://en.wikipedia.org/wiki/Special:Random\", \"https://en.wikipedia.org/wiki/Special:Random\", \"https://en.wikipedia.org/wiki/Special:Random\",\n",
    "             \"https://en.wikipedia.org/wiki/Special:Random\", \"https://en.wikipedia.org/wiki/Special:Random\", \"https://en.wikipedia.org/wiki/Special:Random\",\n",
    "             \"https://en.wikipedia.org/wiki/Special:Random\", \"https://en.wikipedia.org/wiki/Special:Random\", \"https://en.wikipedia.org/wiki/Special:Random\",\n",
    "             \"https://en.wikipedia.org/wiki/Special:Random\", \"https://en.wikipedia.org/wiki/Special:Random\", \"https://en.wikipedia.org/wiki/Special:Random\",\n",
    "             \"https://en.wikipedia.org/wiki/Special:Random\", \"https://en.wikipedia.org/wiki/Special:Random\", \"https://en.wikipedia.org/wiki/Special:Random\",\n",
    "             \"https://en.wikipedia.org/wiki/Special:Random\", \"https://en.wikipedia.org/wiki/Special:Random\", \"https://en.wikipedia.org/wiki/Special:Random\",\n",
    "             \"https://en.wikipedia.org/wiki/Special:Random\", \"https://en.wikipedia.org/wiki/Special:Random\", \"https://en.wikipedia.org/wiki/Special:Random\",\n",
    "             \"https://en.wikipedia.org/wiki/Special:Random\", \"https://en.wikipedia.org/wiki/Special:Random\", \"https://en.wikipedia.org/wiki/Special:Random\",\n",
    "             \"https://en.wikipedia.org/wiki/Special:Random\", \"https://en.wikipedia.org/wiki/Special:Random\", \"https://en.wikipedia.org/wiki/Special:Random\",\n",
    "             \"https://en.wikipedia.org/wiki/Special:Random\", \"https://en.wikipedia.org/wiki/Special:Random\", \"https://en.wikipedia.org/wiki/Special:Random\",\n",
    "             \"https://en.wikipedia.org/wiki/Special:Random\", \"https://en.wikipedia.org/wiki/Special:Random\", \"https://en.wikipedia.org/wiki/Special:Random\",\n",
    "             \"https://en.wikipedia.org/wiki/Special:Random\", \"https://en.wikipedia.org/wiki/Special:Random\", \"https://en.wikipedia.org/wiki/Special:Random\",\n",
    "             \"https://en.wikipedia.org/wiki/Special:Random\", \"https://en.wikipedia.org/wiki/Special:Random\", \"https://en.wikipedia.org/wiki/Special:Random\",\n",
    "             \"https://en.wikipedia.org/wiki/Special:Random\", \"https://en.wikipedia.org/wiki/Special:Random\", \"https://en.wikipedia.org/wiki/Special:Random\",\n",
    "             \"https://en.wikipedia.org/wiki/Special:Random\", \"https://en.wikipedia.org/wiki/Special:Random\", \"https://en.wikipedia.org/wiki/Special:Random\",\n",
    "             \"https://en.wikipedia.org/wiki/Special:Random\", \"https://en.wikipedia.org/wiki/Special:Random\", \"https://en.wikipedia.org/wiki/Special:Random\",\n",
    "             \"https://en.wikipedia.org/wiki/Special:Random\", \"https://en.wikipedia.org/wiki/Special:Random\", \"https://en.wikipedia.org/wiki/Special:Random\",\n",
    "             \"https://en.wikipedia.org/wiki/Special:Random\", \"https://en.wikipedia.org/wiki/Special:Random\", \"https://en.wikipedia.org/wiki/Special:Random\",\n",
    "             \"https://en.wikipedia.org/wiki/Special:Random\", \"https://en.wikipedia.org/wiki/Special:Random\", \"https://en.wikipedia.org/wiki/Special:Random\",\n",
    "             \"https://en.wikipedia.org/wiki/Special:Random\", \"https://en.wikipedia.org/wiki/Special:Random\", \"https://en.wikipedia.org/wiki/Special:Random\",\n",
    "             \"https://en.wikipedia.org/wiki/Special:Random\", \"https://en.wikipedia.org/wiki/Special:Random\", \"https://en.wikipedia.org/wiki/Special:Random\",\n",
    "             \"https://en.wikipedia.org/wiki/Special:Random\", \"https://en.wikipedia.org/wiki/Special:Random\", \"https://en.wikipedia.org/wiki/Special:Random\",\n",
    "             \"https://en.wikipedia.org/wiki/Special:Random\", \"https://en.wikipedia.org/wiki/Special:Random\", \"https://en.wikipedia.org/wiki/Special:Random\",\n",
    "             \"https://en.wikipedia.org/wiki/Special:Random\", \"https://en.wikipedia.org/wiki/Special:Random\", \"https://en.wikipedia.org/wiki/Special:Random\",\n",
    "             \"https://en.wikipedia.org/wiki/Special:Random\", \"https://en.wikipedia.org/wiki/Special:Random\", \"https://en.wikipedia.org/wiki/Special:Random\",\n",
    "             \"https://en.wikipedia.org/wiki/Special:Random\", \"https://en.wikipedia.org/wiki/Special:Random\", \"https://en.wikipedia.org/wiki/Special:Random\",\n",
    "             \"https://en.wikipedia.org/wiki/Special:Random\", \"https://en.wikipedia.org/wiki/Special:Random\", \"https://en.wikipedia.org/wiki/Special:Random\",\n",
    "             \"https://en.wikipedia.org/wiki/Special:Random\", \"https://en.wikipedia.org/wiki/Special:Random\", \"https://en.wikipedia.org/wiki/Special:Random\",\n",
    "             \"https://en.wikipedia.org/wiki/Special:Random\", \"https://en.wikipedia.org/wiki/Special:Random\", \"https://en.wikipedia.org/wiki/Special:Random\",\n",
    "             \"https://en.wikipedia.org/wiki/Special:Random\", \"https://en.wikipedia.org/wiki/Special:Random\", \"https://en.wikipedia.org/wiki/Special:Random\",\n",
    "             \"https://en.wikipedia.org/wiki/Special:Random\", \"https://en.wikipedia.org/wiki/Special:Random\", \"https://en.wikipedia.org/wiki/Special:Random\",\n",
    "             \"https://en.wikipedia.org/wiki/Special:Random\", \"https://en.wikipedia.org/wiki/Special:Random\", \"https://en.wikipedia.org/wiki/Special:Random\",\n",
    "             \"https://en.wikipedia.org/wiki/Special:Random\"]\n",
    "\n",
    "for i in range(len(list_urls)):\n",
    "    url = list_urls[i] \n",
    "    response = requests.get(url)\n",
    "    soup = BeautifulSoup(response.text, 'html5lib')\n",
    "    ar_l = soup.find_all('a')\n",
    "    ar_i = soup.find_all('img')\n",
    "    links = links +len(ar_l)\n",
    "    images = images + len(ar_i)\n",
    "print(\"Total links\", links, \"Avg links\", links/len(list_urls))\n",
    "print(\"Total images\", images, \"Avg images\", images/len(list_urls))\n"
   ]
  },
  {
   "cell_type": "code",
   "execution_count": 31,
   "id": "070f6bec",
   "metadata": {},
   "outputs": [
    {
     "data": {
      "text/plain": [
       "'\\n29826   298.26\\n1318   13.18\\n26148   261.48\\n1363   13.63\\n29992   299.92\\n1405   14.05\\n24096   240.96\\n1761   17.61\\n26282   262.82\\n1616   16.16\\n'"
      ]
     },
     "execution_count": 31,
     "metadata": {},
     "output_type": "execute_result"
    }
   ],
   "source": [
    "\"\"\"\n",
    "29826   298.26\n",
    "1318   13.18\n",
    "26148   261.48\n",
    "1363   13.63\n",
    "29992   299.92\n",
    "1405   14.05\n",
    "24096   240.96\n",
    "1761   17.61\n",
    "26282   262.82\n",
    "1616   16.16\n",
    "\"\"\"\n"
   ]
  },
  {
   "cell_type": "code",
   "execution_count": null,
   "id": "55c2c747",
   "metadata": {},
   "outputs": [],
   "source": []
  }
 ],
 "metadata": {
  "kernelspec": {
   "display_name": "Python 3 (ipykernel)",
   "language": "python",
   "name": "python3"
  },
  "language_info": {
   "codemirror_mode": {
    "name": "ipython",
    "version": 3
   },
   "file_extension": ".py",
   "mimetype": "text/x-python",
   "name": "python",
   "nbconvert_exporter": "python",
   "pygments_lexer": "ipython3",
   "version": "3.9.13"
  }
 },
 "nbformat": 4,
 "nbformat_minor": 5
}
