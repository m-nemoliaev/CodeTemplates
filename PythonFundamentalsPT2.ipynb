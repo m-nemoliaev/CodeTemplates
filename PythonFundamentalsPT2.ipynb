{
 "cells": [
  {
   "cell_type": "code",
   "execution_count": 1,
   "id": "ef9eb475",
   "metadata": {},
   "outputs": [],
   "source": [
    "columnKeys = {\n",
    "    \"Name\":[\"Edward Teach\", \"Anne Bonny\", \"John Rackham\", \"Cheung Po Tsai\", \"Grace O'Malley\", \"Mary Read\", \"Sayyida al Hurra\", \"Zheng Yi Sao\", \"Francis Drake\", \"Jean Lafitte\"],\n",
    "    \"Years Active\":[ [1716, 1718], [1718, 1720], [1718, 1720], [1798, 1810], [1564, 1595], [1708, 1721], [1515, 1545], [1801, 1810], [1563, 1596], [1810, 1823] ],\n",
    "    \"Sailed\":[\"Carribean\", \"Carribean\", \"Carribean\", \"South China Sea\", \"British Isles\", \"Carribean\", \"Mediterranean\", \"South China Sea\", \"Carribean\", \"Gulf of Mexico\"],\n",
    "    \"Alias\":[\"Blackbeard\", \"\", \"Calico Jack\", \"The Kid\", \"Queen of Ireland\", \"Mark\", \"Hakimat Titwan\", \"Ching Shih\", \"Sir Francis Drake\", \"Terror of the Gulf\"]\n",
    "}\n",
    "pirates = {\n",
    "    \"Pirate\":[\"Blackbeard\", \"Anne Bonny\", \"Calico Jack\", \"Cheung Po Tsai\", \"Grace O'Malley\", \"Mary Read\", \"Sayyida al Hurra\", \"Ching Shih\", \"Sir Francis Drake\", \"Jean Lafittte\"],\n",
    "    \"Sex\":[\"M\", \"F\", \"M\", \"M\", \"F\", \"F\", \"F\", \"F\", \"M\", \"M\"],\n",
    "    \"Age at Death\":[40, 24, 37, 39, 73, 36, 75, 69, 56, 46],\n",
    "    \"Height\":[6.4, 5.6, 5.6, 5.3, 5.0, 5.1, 0.0, 5.3, 5.5, 6.2],\n",
    "    \"Skull and Crossbones\":[False, True, True, False, False, True, False, False, False, False]\n",
    "}"
   ]
  },
  {
   "cell_type": "code",
   "execution_count": 2,
   "id": "db885ccd",
   "metadata": {},
   "outputs": [],
   "source": [
    "nameKeys = {\n",
    "    \"Edward Teach\":[[1716, 1718], \"Carribean\", \"Blackbeard\"],\n",
    "    \"Anne Bonny\":[[1718, 1720], \"Carribean\", \"\"],\n",
    "    \"John Rackham\":[[1718, 1720], \"Carribean\", \"Calico Jack\"],\n",
    "    \"Cheung Po Tsai\":[[1798, 1810], \"South China Sea\", \"The Kid\"],\n",
    "    \"Grace O'Malley\":[[1564, 1595], \"British Isles\", \"Queen of Ireland\"],\n",
    "    \"Mary Read\":[[1708, 1721], \"Carribean\", \"Mark\"],\n",
    "    \"Sayyida al Hurra\":[[1515, 1545], \"Mediterranean\", \"Hakimat Titwan\"],\n",
    "    \"Zheng Yi Sao\":[[1801, 1810], \"South China Sea\", \"Ching Shih\"],\n",
    "    \"Francis Drake\":[[1563, 1596], \"Carribean\", \"Sir Francis Drake\"],\n",
    "    \"Jean Lafitte\":[[1810, 1823], \"Gulf of Mexico\", \"Terror of the Gulf\"]\n",
    "}"
   ]
  },
  {
   "cell_type": "code",
   "execution_count": 3,
   "id": "57ff88e4",
   "metadata": {
    "scrolled": true
   },
   "outputs": [
    {
     "name": "stdout",
     "output_type": "stream",
     "text": [
      "1716\n",
      "1718\n",
      "['Carribean', 'Carribean', 'South China Sea', 'British Isles', 'Carribean', 'Mediterranean', 'South China Sea', 'Carribean', 'Gulf of Mexico']\n",
      "1\n",
      "1718\n",
      "1720\n",
      "['Carribean', 'South China Sea', 'British Isles', 'Carribean', 'Mediterranean', 'South China Sea', 'Carribean', 'Gulf of Mexico']\n",
      "2\n",
      "1718\n",
      "1720\n",
      "['South China Sea', 'British Isles', 'Carribean', 'Mediterranean', 'South China Sea', 'Carribean', 'Gulf of Mexico']\n",
      "3\n",
      "1798\n",
      "1810\n",
      "['South China Sea', 'British Isles', 'Mediterranean', 'South China Sea', 'Carribean', 'Gulf of Mexico']\n",
      "4\n",
      "1564\n",
      "1595\n",
      "1708\n",
      "1721\n",
      "['South China Sea', 'British Isles', 'Mediterranean', 'South China Sea', 'Gulf of Mexico']\n",
      "5\n",
      "1515\n",
      "1545\n",
      "1801\n",
      "1810\n",
      "1563\n",
      "1596\n",
      "1810\n",
      "1823\n",
      "The result is 4\n"
     ]
    }
   ],
   "source": [
    "countCent = 0\n",
    "for cent18 in columnKeys[\"Years Active\"]:\n",
    "    print(cent18[0])\n",
    "    print(cent18[1])\n",
    "    if cent18[0] > 1700 and cent18[0] < 1800 :\n",
    "        for carrCheck in columnKeys[\"Sailed\"]:\n",
    "            if carrCheck == \"Carribean\":\n",
    "                columnKeys[\"Sailed\"].remove(\"Carribean\")\n",
    "                print(columnKeys[\"Sailed\"])\n",
    "                countCent = countCent + 1\n",
    "                print(countCent)\n",
    "                if carrCheck == \"Carribean\":\n",
    "                    break\n",
    "print(\"The result is\", countCent-1)"
   ]
  },
  {
   "cell_type": "code",
   "execution_count": 4,
   "id": "059230ad",
   "metadata": {
    "scrolled": false
   },
   "outputs": [
    {
     "name": "stdout",
     "output_type": "stream",
     "text": [
      "equality\n",
      "equality\n",
      "equality\n",
      "equality\n",
      "equality\n",
      "equality\n",
      "num2 is higher than num1\n",
      "[1798, 1810]\n",
      "equality\n",
      "num2 is higher than num1\n",
      "[1564, 1595]\n",
      "equality\n",
      "num1 is higher than num2\n",
      "num1 is higher than num2\n",
      "num1 is higher than num2\n",
      "num1 is higher than num2\n",
      "num1 is higher than num2\n",
      "num1 is higher than num2\n",
      "num2 is higher than num1\n",
      "[1563, 1596]\n",
      "equality\n",
      "num1 is higher than num2\n",
      "num1 is higher than num2\n",
      "33\n"
     ]
    }
   ],
   "source": [
    "# print(columnKeys[\"Years Active\"][4][0])\n",
    "result = 0\n",
    "num1 = columnKeys[\"Years Active\"][0][1] - columnKeys[\"Years Active\"][0][0]\n",
    "for i in range(10):\n",
    "    for num2 in columnKeys[\"Years Active\"][i]:\n",
    "        num2 = columnKeys[\"Years Active\"][i][1] - columnKeys[\"Years Active\"][i][0]\n",
    "        if num1 == num2:\n",
    "            num1 = num1\n",
    "            print(\"equality\")\n",
    "        if num1 > num2:\n",
    "            num1 = num1\n",
    "            print(\"num1 is higher than num2\")\n",
    "        if num1 < num2:\n",
    "            num1 = num2\n",
    "            print(\"num2 is higher than num1\")\n",
    "            print(columnKeys[\"Years Active\"][i])\n",
    "print(num1)"
   ]
  },
  {
   "cell_type": "code",
   "execution_count": 5,
   "id": "1e60f7de",
   "metadata": {},
   "outputs": [
    {
     "name": "stdout",
     "output_type": "stream",
     "text": [
      "num 2 is 2\n",
      "2\n",
      "num 2 is 2\n",
      "4\n",
      "num 2 is 2\n",
      "6\n",
      "num 2 is 2\n",
      "8\n",
      "num 2 is 2\n",
      "10\n",
      "num 2 is 2\n",
      "12\n",
      "num 2 is 12\n",
      "24\n",
      "num 2 is 12\n",
      "36\n",
      "num 2 is 31\n",
      "67\n",
      "num 2 is 31\n",
      "98\n",
      "num 2 is 13\n",
      "111\n",
      "num 2 is 13\n",
      "124\n",
      "num 2 is 30\n",
      "154\n",
      "num 2 is 30\n",
      "184\n",
      "num 2 is 9\n",
      "193\n",
      "num 2 is 9\n",
      "202\n",
      "num 2 is 33\n",
      "235\n",
      "num 2 is 33\n",
      "268\n",
      "num 2 is 13\n",
      "281\n",
      "num 2 is 13\n",
      "294\n",
      "x 147.0\n",
      "0.1x 14.7\n",
      "147\n"
     ]
    }
   ],
   "source": [
    "# num1 = columnKeys[\"Years Active\"][0][1] - columnKeys[\"Years Active\"][0][0]\n",
    "result = 0\n",
    "for i in range(10):\n",
    "    for num2 in columnKeys[\"Years Active\"][i]:\n",
    "        num2 = columnKeys[\"Years Active\"][i][1] - columnKeys[\"Years Active\"][i][0]\n",
    "        result = result + num2\n",
    "        print(\"num 2 is\", num2)\n",
    "        print(result)\n",
    "print(\"x\",result/2)\n",
    "print(\"0.1x\",result/20)\n",
    "print(2+2+2+12+31+13+30+9+33+13)"
   ]
  },
  {
   "cell_type": "code",
   "execution_count": 6,
   "id": "5e249bf1",
   "metadata": {},
   "outputs": [
    {
     "name": "stdout",
     "output_type": "stream",
     "text": [
      "{'Name': ['Edward Teach', 'Anne Bonny', 'John Rackham', 'Cheung Po Tsai', \"Grace O'Malley\", 'Mary Read', 'Sayyida al Hurra', 'Zheng Yi Sao', 'Francis Drake', 'Jean Lafitte'], 'Years Active': [[1716, 1718], [1718, 1720], [1718, 1720], [1798, 1810], [1564, 1595], [1708, 1721], [1515, 1545], [1801, 1810], [1563, 1596], [1810, 1823]], 'Sailed': ['South China Sea', 'British Isles', 'Mediterranean', 'South China Sea', 'Gulf of Mexico'], 'Alias': ['Blackbeard', '', 'Calico Jack', 'The Kid', 'Queen of Ireland', 'Mark', 'Hakimat Titwan', 'Ching Shih', 'Sir Francis Drake', 'Terror of the Gulf'], 'Sex': ['M', 'F', 'M', 'M', 'F', 'F', 'F', 'F', 'M', 'M'], 'Age at Death': [40, 24, 37, 39, 73, 36, 75, 69, 56, 46], 'Height': [6.4, 5.6, 5.6, 5.3, 5.0, 5.1, 0.0, 5.3, 5.5, 6.2], 'Skull and Crossbones': [False, True, True, False, False, True, False, False, False, False]}\n"
     ]
    }
   ],
   "source": [
    "def Merge(columnKeys, pirates):\n",
    "    pirates.pop(\"Pirate\")\n",
    "    for i in pirates.keys():\n",
    "        columnKeys[i]=pirates[i]\n",
    "    return columnKeys\n",
    "\n",
    "mergedPirates = Merge(columnKeys, pirates)\n",
    "print(mergedPirates)"
   ]
  },
  {
   "cell_type": "code",
   "execution_count": 7,
   "id": "d52be9b7",
   "metadata": {},
   "outputs": [
    {
     "name": "stdout",
     "output_type": "stream",
     "text": [
      "['Edward Teach', 'Anne Bonny', 'John Rackham', 'Cheung Po Tsai', \"Grace O'Malley\", 'Mary Read', 'Sayyida al Hurra', 'Zheng Yi Sao', 'Francis Drake', 'Jean Lafitte']\n",
      "[[1716, 1718], [1718, 1720], [1718, 1720], [1798, 1810], [1564, 1595], [1708, 1721], [1515, 1545], [1801, 1810], [1563, 1596], [1810, 1823]]\n",
      "['South China Sea', 'British Isles', 'Mediterranean', 'South China Sea', 'Gulf of Mexico']\n",
      "['Blackbeard', '', 'Calico Jack', 'The Kid', 'Queen of Ireland', 'Mark', 'Hakimat Titwan', 'Ching Shih', 'Sir Francis Drake', 'Terror of the Gulf']\n",
      "['M', 'F', 'M', 'M', 'F', 'F', 'F', 'F', 'M', 'M']\n",
      "[40, 24, 37, 39, 73, 36, 75, 69, 56, 46]\n",
      "[6.4, 5.6, 5.6, 5.3, 5.0, 5.1, 0.0, 5.3, 5.5, 6.2]\n",
      "[False, True, True, False, False, True, False, False, False, False]\n"
     ]
    }
   ],
   "source": [
    "for i in mergedPirates:\n",
    "    print(mergedPirates[i])"
   ]
  },
  {
   "cell_type": "code",
   "execution_count": null,
   "id": "e968246f",
   "metadata": {},
   "outputs": [],
   "source": []
  }
 ],
 "metadata": {
  "kernelspec": {
   "display_name": "Python 3 (ipykernel)",
   "language": "python",
   "name": "python3"
  },
  "language_info": {
   "codemirror_mode": {
    "name": "ipython",
    "version": 3
   },
   "file_extension": ".py",
   "mimetype": "text/x-python",
   "name": "python",
   "nbconvert_exporter": "python",
   "pygments_lexer": "ipython3",
   "version": "3.9.13"
  }
 },
 "nbformat": 4,
 "nbformat_minor": 5
}
