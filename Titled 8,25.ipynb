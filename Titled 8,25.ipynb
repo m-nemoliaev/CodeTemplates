{
 "cells": [
  {
   "cell_type": "code",
   "execution_count": 1,
   "id": "9a9074da",
   "metadata": {},
   "outputs": [],
   "source": [
    "listPirates = [\"Blackbeard\", \"Anne Bonny\", \"Calico Jack\", \"Cheung Po Tsai\", \"Grace O'Malley\", \"Mary Read\", \"Sayyida al Hurra\", \"Ching Shih\", \"Sir Francis Drake\", \"Jean Lafitte\"]"
   ]
  },
  {
   "cell_type": "code",
   "execution_count": 2,
   "id": "e11b0237",
   "metadata": {},
   "outputs": [],
   "source": [
    "Blackbeard = {\n",
    "    \"Name\": \"Blackbeard\",\n",
    "    \"Sex\": \"M\",\n",
    "    \"Age\": 40,\n",
    "    \"Height\": 6.4,\n",
    "    \"Skull\": False\n",
    "}"
   ]
  },
  {
   "cell_type": "code",
   "execution_count": 3,
   "id": "913ba1b0",
   "metadata": {},
   "outputs": [],
   "source": [
    "AnneBonny = {\n",
    "    \"Name\": \"AnneBonny\",\n",
    "    \"Sex\": \"F\",\n",
    "    \"Age\": 24,\n",
    "    \"Height\": 5.6,\n",
    "    \"Skull\": True\n",
    "}"
   ]
  },
  {
   "cell_type": "code",
   "execution_count": 4,
   "id": "001cbcaa",
   "metadata": {},
   "outputs": [],
   "source": [
    "CalicoJack = {\n",
    "    \"Name\": \"CalicoJack\",\n",
    "    \"Sex\": \"M\",\n",
    "    \"Age\": 37,\n",
    "    \"Height\": 5.6,\n",
    "    \"Skull\": True\n",
    "}"
   ]
  },
  {
   "cell_type": "code",
   "execution_count": 5,
   "id": "542857d9",
   "metadata": {},
   "outputs": [],
   "source": [
    "CheungPoTsai = {\n",
    "    \"Name\": \"CheungPoTsai\",\n",
    "    \"Sex\": \"M\",\n",
    "    \"Age\": 39,\n",
    "    \"Height\": 5.3,\n",
    "    \"Skull\": False\n",
    "}"
   ]
  },
  {
   "cell_type": "code",
   "execution_count": 6,
   "id": "ce495e7d",
   "metadata": {},
   "outputs": [],
   "source": [
    "GraceOMalley = {\n",
    "    \"Name\": \"GraceOMalley\",\n",
    "    \"Sex\": \"F\",\n",
    "    \"Age\": 73,\n",
    "    \"Height\": 5.0,\n",
    "    \"Skull\": False\n",
    "}"
   ]
  },
  {
   "cell_type": "code",
   "execution_count": 7,
   "id": "3faf7516",
   "metadata": {},
   "outputs": [],
   "source": [
    "MaryRead = {\n",
    "    \"Name\": \"MaryRead\",\n",
    "    \"Sex\": \"F\",\n",
    "    \"Age\": 36,\n",
    "    \"Height\": 5.1,\n",
    "    \"Skull\": True\n",
    "}"
   ]
  },
  {
   "cell_type": "code",
   "execution_count": 8,
   "id": "1e576aaa",
   "metadata": {},
   "outputs": [],
   "source": [
    "SayyidaalHurra = {\n",
    "    \"Name\": \"SayyidaalHurra\",\n",
    "    \"Sex\": \"F\",\n",
    "    \"Age\": 75,\n",
    "    \"Height\": False,\n",
    "    \"Skull\": False\n",
    "}"
   ]
  },
  {
   "cell_type": "code",
   "execution_count": 9,
   "id": "90ac8aa8",
   "metadata": {},
   "outputs": [],
   "source": [
    "ChingShih = {\n",
    "    \"Name\": \"ChingShih\",\n",
    "    \"Sex\": \"F\",\n",
    "    \"Age\": 69,\n",
    "    \"Height\": 5.3,\n",
    "    \"Skull\": False\n",
    "}"
   ]
  },
  {
   "cell_type": "code",
   "execution_count": 10,
   "id": "252794f4",
   "metadata": {},
   "outputs": [],
   "source": [
    "SirFrancisDrake = {\n",
    "    \"Name\": \"SirFrancisDrake\",\n",
    "    \"Sex\": \"M\",\n",
    "    \"Age\": 56,\n",
    "    \"Height\": 5.5,\n",
    "    \"Skull\": False\n",
    "}"
   ]
  },
  {
   "cell_type": "code",
   "execution_count": 11,
   "id": "56f37c64",
   "metadata": {},
   "outputs": [],
   "source": [
    "JeanLafitte = {\n",
    "    \"Name\": \"JeanLafitte\",\n",
    "    \"Sex\": \"M\",\n",
    "    \"Age\": 46,\n",
    "    \"Height\": 6.2,\n",
    "    \"Skull\": False\n",
    "}"
   ]
  },
  {
   "cell_type": "code",
   "execution_count": 12,
   "id": "40231fb5",
   "metadata": {
    "scrolled": true
   },
   "outputs": [],
   "source": [
    "l0 = [Blackbeard[\"Name\"], Blackbeard[\"Age\"], Blackbeard[\"Skull\"]]\n",
    "l1 = [AnneBonny[\"Name\"], AnneBonny[\"Age\"], AnneBonny[\"Skull\"]]\n",
    "l2 = [CalicoJack[\"Name\"], CalicoJack[\"Age\"], CalicoJack[\"Skull\"]]\n",
    "l3 = [CheungPoTsai[\"Name\"], CheungPoTsai[\"Age\"], CheungPoTsai[\"Skull\"]]\n",
    "l4 = [GraceOMalley[\"Name\"], GraceOMalley[\"Age\"], GraceOMalley[\"Skull\"]]\n",
    "l5 = [MaryRead[\"Name\"], MaryRead[\"Age\"], MaryRead[\"Skull\"]]\n",
    "l6 = [SayyidaalHurra[\"Name\"], SayyidaalHurra[\"Age\"], SayyidaalHurra[\"Skull\"]]\n",
    "l7 = [ChingShih[\"Name\"], ChingShih[\"Age\"], ChingShih[\"Skull\"]]\n",
    "l8 = [SirFrancisDrake[\"Name\"], SirFrancisDrake[\"Age\"], SirFrancisDrake[\"Skull\"]]\n",
    "l9 = [JeanLafitte[\"Name\"], JeanLafitte[\"Age\"], JeanLafitte[\"Skull\"]]"
   ]
  },
  {
   "cell_type": "code",
   "execution_count": 13,
   "id": "7ef10118",
   "metadata": {
    "scrolled": true
   },
   "outputs": [],
   "source": [
    "listBlackbeard = [Blackbeard[\"Name\"], Blackbeard[\"Sex\"], Blackbeard[\"Age\"], Blackbeard[\"Height\"], Blackbeard[\"Skull\"]]"
   ]
  },
  {
   "cell_type": "code",
   "execution_count": 14,
   "id": "4912b186",
   "metadata": {},
   "outputs": [
    {
     "name": "stdout",
     "output_type": "stream",
     "text": [
      "['Blackbeard', 'M', 40, 6.4, False]\n"
     ]
    }
   ],
   "source": [
    "print(listBlackbeard)"
   ]
  },
  {
   "cell_type": "code",
   "execution_count": 15,
   "id": "a00322e9",
   "metadata": {},
   "outputs": [
    {
     "name": "stdout",
     "output_type": "stream",
     "text": [
      "False\n",
      "False\n",
      "False\n",
      "False\n",
      "True\n",
      "False\n",
      "False\n",
      "True\n",
      "True\n",
      "False\n"
     ]
    }
   ],
   "source": [
    "print(JeanLafitte[\"Skull\"]), \n",
    "print(SirFrancisDrake[\"Skull\"]), \n",
    "print(ChingShih[\"Skull\"]), \n",
    "print(SayyidaalHurra[\"Skull\"]), \n",
    "print(MaryRead[\"Skull\"]), \n",
    "print(GraceOMalley[\"Skull\"]), \n",
    "print(CheungPoTsai[\"Skull\"]), \n",
    "print(CalicoJack[\"Skull\"]), \n",
    "print(AnneBonny[\"Skull\"]),\n",
    "print(Blackbeard[\"Skull\"])"
   ]
  },
  {
   "cell_type": "code",
   "execution_count": 16,
   "id": "b4261e4d",
   "metadata": {
    "scrolled": false
   },
   "outputs": [
    {
     "name": "stdout",
     "output_type": "stream",
     "text": [
      "['Blackbeard', 40, False]\n",
      "['AnneBonny', 24, True]\n",
      "['CalicoJack', 37, True]\n",
      "['CheungPoTsai', 39, False]\n",
      "['GraceOMalley', 73, False]\n",
      "['MaryRead', 36, True]\n",
      "['SayyidaalHurra', 75, False]\n",
      "['ChingShih', 69, False]\n",
      "['SirFrancisDrake', 56, False]\n",
      "['JeanLafitte', 46, False]\n"
     ]
    }
   ],
   "source": [
    "print(l0),\n",
    "print(l1),\n",
    "print(l2),\n",
    "print(l3),\n",
    "print(l4),\n",
    "print(l5),\n",
    "print(l6),\n",
    "print(l7),\n",
    "print(l8),\n",
    "print(l9)"
   ]
  },
  {
   "cell_type": "code",
   "execution_count": null,
   "id": "33c01737",
   "metadata": {},
   "outputs": [],
   "source": []
  }
 ],
 "metadata": {
  "kernelspec": {
   "display_name": "Python 3 (ipykernel)",
   "language": "python",
   "name": "python3"
  },
  "language_info": {
   "codemirror_mode": {
    "name": "ipython",
    "version": 3
   },
   "file_extension": ".py",
   "mimetype": "text/x-python",
   "name": "python",
   "nbconvert_exporter": "python",
   "pygments_lexer": "ipython3",
   "version": "3.9.13"
  }
 },
 "nbformat": 4,
 "nbformat_minor": 5
}
