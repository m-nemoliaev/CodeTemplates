{
 "cells": [
  {
   "cell_type": "code",
   "execution_count": 1,
   "id": "050db362",
   "metadata": {},
   "outputs": [],
   "source": [
    "from bs4 import BeautifulSoup\n",
    "import requests\n",
    "import pandas as pd"
   ]
  },
  {
   "cell_type": "code",
   "execution_count": 2,
   "id": "12988688",
   "metadata": {},
   "outputs": [],
   "source": [
    "url = \"https://www.bbc.com/news\"  # Replace with the URL you want to read\n",
    "response = requests.get(url)\n",
    "\n",
    "# Check if the request was successful\n",
    "if response.status_code == 200:\n",
    "    html_content = response.text\n",
    "else:\n",
    "    print(\"Failed to retrieve the web page.\")"
   ]
  },
  {
   "cell_type": "code",
   "execution_count": 3,
   "id": "817b5e08",
   "metadata": {},
   "outputs": [],
   "source": [
    "soup = BeautifulSoup(html_content, 'html5lib')"
   ]
  },
  {
   "cell_type": "code",
   "execution_count": 4,
   "id": "0f1d5e78",
   "metadata": {},
   "outputs": [
    {
     "name": "stdout",
     "output_type": "stream",
     "text": [
      "54\n"
     ]
    }
   ],
   "source": [
    "article_headings = soup.find_all('h3')\n",
    "print(len(article_headings))"
   ]
  },
  {
   "cell_type": "code",
   "execution_count": 6,
   "id": "67ebb51d",
   "metadata": {},
   "outputs": [],
   "source": [
    "#print(article_headings)"
   ]
  },
  {
   "cell_type": "code",
   "execution_count": 7,
   "id": "4386d51e",
   "metadata": {},
   "outputs": [],
   "source": [
    "df = pd.DataFrame(article_headings)"
   ]
  },
  {
   "cell_type": "code",
   "execution_count": 9,
   "id": "1dbbd75e",
   "metadata": {},
   "outputs": [
    {
     "data": {
      "text/html": [
       "<div>\n",
       "<style scoped>\n",
       "    .dataframe tbody tr th:only-of-type {\n",
       "        vertical-align: middle;\n",
       "    }\n",
       "\n",
       "    .dataframe tbody tr th {\n",
       "        vertical-align: top;\n",
       "    }\n",
       "\n",
       "    .dataframe thead th {\n",
       "        text-align: right;\n",
       "    }\n",
       "</style>\n",
       "<table border=\"1\" class=\"dataframe\">\n",
       "  <thead>\n",
       "    <tr style=\"text-align: right;\">\n",
       "      <th></th>\n",
       "      <th>0</th>\n",
       "    </tr>\n",
       "  </thead>\n",
       "  <tbody>\n",
       "    <tr>\n",
       "      <th>0</th>\n",
       "      <td>Israel on 'very high alert' at Lebanon border ...</td>\n",
       "    </tr>\n",
       "    <tr>\n",
       "      <th>1</th>\n",
       "      <td>A doctor, a tailor and a young child: Stories ...</td>\n",
       "    </tr>\n",
       "    <tr>\n",
       "      <th>2</th>\n",
       "      <td>Israelis face Hamas hit-and-run attacks from t...</td>\n",
       "    </tr>\n",
       "    <tr>\n",
       "      <th>3</th>\n",
       "      <td>Ros Atkins on... Calls for a ceasefire in Gaza</td>\n",
       "    </tr>\n",
       "    <tr>\n",
       "      <th>4</th>\n",
       "      <td>Hezbollah chief to break silence on Israel-Gaz...</td>\n",
       "    </tr>\n",
       "  </tbody>\n",
       "</table>\n",
       "</div>"
      ],
      "text/plain": [
       "                                                   0\n",
       "0  Israel on 'very high alert' at Lebanon border ...\n",
       "1  A doctor, a tailor and a young child: Stories ...\n",
       "2  Israelis face Hamas hit-and-run attacks from t...\n",
       "3     Ros Atkins on... Calls for a ceasefire in Gaza\n",
       "4  Hezbollah chief to break silence on Israel-Gaz..."
      ]
     },
     "execution_count": 9,
     "metadata": {},
     "output_type": "execute_result"
    }
   ],
   "source": [
    "df.head()"
   ]
  },
  {
   "cell_type": "code",
   "execution_count": null,
   "id": "d84d50b0",
   "metadata": {},
   "outputs": [],
   "source": []
  }
 ],
 "metadata": {
  "kernelspec": {
   "display_name": "Python 3 (ipykernel)",
   "language": "python",
   "name": "python3"
  },
  "language_info": {
   "codemirror_mode": {
    "name": "ipython",
    "version": 3
   },
   "file_extension": ".py",
   "mimetype": "text/x-python",
   "name": "python",
   "nbconvert_exporter": "python",
   "pygments_lexer": "ipython3",
   "version": "3.9.13"
  }
 },
 "nbformat": 4,
 "nbformat_minor": 5
}
