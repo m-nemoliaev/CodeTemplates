{
 "cells": [
  {
   "cell_type": "code",
   "execution_count": 2,
   "id": "050db362",
   "metadata": {},
   "outputs": [],
   "source": [
    "from bs4 import BeautifulSoup\n",
    "import requests"
   ]
  },
  {
   "cell_type": "code",
   "execution_count": 3,
   "id": "12988688",
   "metadata": {},
   "outputs": [],
   "source": [
    "url = \"https://www.bbc.com/news\"  # Replace with the URL you want to read\n",
    "response = requests.get(url)\n",
    "\n",
    "# Check if the request was successful\n",
    "if response.status_code == 200:\n",
    "    html_content = response.text\n",
    "else:\n",
    "    print(\"Failed to retrieve the web page.\")"
   ]
  },
  {
   "cell_type": "code",
   "execution_count": 4,
   "id": "817b5e08",
   "metadata": {},
   "outputs": [],
   "source": [
    "soup = BeautifulSoup(html_content, 'html5lib')"
   ]
  },
  {
   "cell_type": "code",
   "execution_count": 5,
   "id": "0f1d5e78",
   "metadata": {},
   "outputs": [
    {
     "name": "stdout",
     "output_type": "stream",
     "text": [
      "54\n"
     ]
    }
   ],
   "source": [
    "article_headings = soup.find_all('h3')\n",
    "print(len(article_headings))"
   ]
  },
  {
   "cell_type": "code",
   "execution_count": 8,
   "id": "67ebb51d",
   "metadata": {},
   "outputs": [
    {
     "name": "stdout",
     "output_type": "stream",
     "text": [
      "[<h3 class=\"gs-c-promo-heading__title gel-canon-bold nw-o-link-split__text\">More than 100 foreign nationals and injured leave Gaza as border finally opens</h3>, <h3 class=\"gs-c-promo-heading__title gel-pica-bold nw-o-link-split__text\">Why Egypt tightly controls the Rafah crossing</h3>, <h3 class=\"gs-c-promo-heading__title gel-pica-bold nw-o-link-split__text\">In one blast, Khalil Khader lost all his children</h3>, <h3 class=\"gs-c-promo-heading__title gel-pica-bold nw-o-link-split__text\">Bolivia severs diplomatic ties with Israel</h3>, <h3 class=\"gs-c-promo-heading__title gel-pica-bold nw-o-link-split__text\">Watch: Breaking down videos from Gaza’s secret tunnels</h3>, <h3 class=\"gs-c-promo-heading__title gel-pica-bold nw-o-link-split__text\">In Kibbutz Be'eri, a broken promise to keep Israelis safe</h3>, <h3 class=\"gs-c-promo-heading__title gel-paragon-bold nw-o-link-split__text\">BBC verifies attacks in Gaza 'safe' areas</h3>, <h3 class=\"gs-c-promo-heading__title gel-pica-bold nw-o-link-split__text\">Why Trump's children are testifying in fraud case</h3>, <h3 class=\"gs-c-promo-heading__title gel-pica-bold nw-o-link-split__text\">UK reveals AI deal as Musk warns of extinction</h3>, <h3 class=\"gs-c-promo-heading__title gel-pica-bold nw-o-link-split__text\">Watch: Pilot saved from wing of plane sinking into water</h3>, <h3 class=\"gs-c-promo-heading__title gel-pica-bold nw-o-link-split__text\">US couple fined $28,000 for child cruelty in Uganda</h3>, <h3 class=\"gs-c-promo-heading__title gel-pica-bold nw-o-link-split__text\">General Hospital's Tyler Christopher dies age 50</h3>, <h3 class=\"gs-c-promo-heading__title gel-pica-bold nw-o-link-split__text\">Perry was in a good place, Friends creator says</h3>, <h3 class=\"gs-c-promo-heading__title gel-pica-bold nw-o-link-split__text\">WeWork reported to be filing for bankruptcy</h3>, <h3 class=\"gs-c-promo-heading__title gel-pica-bold nw-o-link-split__text\">Cornell student held over threats to Jewish classmates</h3>, <h3 class=\"gs-c-promo-heading__title gel-pica-bold nw-o-link-split__text\">'We have nothing' - Afghans deported from Pakistan</h3>, <h3 class=\"gs-c-promo-heading__title gel-pica-bold nw-o-link-split__text\">The children forced from home by Russian attacks</h3>, <h3 class=\"gs-c-promo-heading__title gel-pica-bold nw-o-link-split__text\">'We have nothing' - Afghans deported from Pakistan</h3>, <h3 class=\"gs-c-promo-heading__title gel-pica-bold nw-o-link-split__text\">The children forced from home by Russian attacks</h3>, <h3 class=\"gs-c-promo-heading__title gel-pica-bold nw-o-link-split__text\">De Niro erupts in court over ex-assistant's claims</h3>, <h3 class=\"gs-c-promo-heading__title gel-pica-bold nw-o-link-split__text\">Disabled man says he had to drag himself off plane</h3>, <h3 class=\"gs-c-promo-heading__title gel-pica-bold nw-o-link-split__text\">Not one day when Covid rules followed in No 10 - top civil servant</h3>, <h3 class=\"gs-c-promo-heading__title gel-double-pica-bold nw-o-link-split__text\">Laksa fever has taken hold in this Australian city</h3>, <h3 class=\"gs-c-promo-heading__title gel-pica-bold nw-o-link-split__text\">BBC World News TV</h3>, <h3 class=\"gs-c-promo-heading__title gel-pica-bold nw-o-link-split__text\">BBC World Service Radio</h3>, <h3 class=\"gs-c-promo-heading__title gel-pica-bold nw-o-link-split__text\">Who is George Santos and why is he in trouble?</h3>, <h3 class=\"gs-c-promo-heading__title gel-pica-bold nw-o-link-split__text\">Why Indians are debating a 70-hour work week</h3>, <h3 class=\"gs-c-promo-heading__title gel-pica-bold nw-o-link-split__text\">'Get out now!' Police release bodycam video of Hawaii fires</h3>, <h3 class=\"gs-c-promo-heading__title gel-pica-bold nw-o-link-split__text\">Why 'Slut' is Taylor Swift's call to arms</h3>, <h3 class=\"gs-c-promo-heading__title gel-pica-bold nw-o-link-split__text\">A World Cup hosted in Saudi should not surprise anyone</h3>, <h3 class=\"gs-c-promo-heading__title gel-double-pica-bold nw-o-link-split__text\">Heidi Klum proves why she is the queen of Halloween</h3>, <h3 class=\"gs-c-promo-heading__title gel-pica-bold nw-o-link-split__text\">Kourtney Kardashian’s partner reveals baby's name</h3>, <h3 class=\"gs-c-promo-heading__title gel-pica-bold nw-o-link-split__text\">'Lost demon' uncovered in controversial painting</h3>, <h3 class=\"gs-c-promo-heading__title gel-pica-bold nw-o-link-split__text\">These trafficked animals found a home in Los Angeles</h3>, <h3 class=\"gs-c-promo-heading__title gel-pica-bold nw-o-link-split__text\">Taylor Swift and Barbie take over this Halloween</h3>, <h3 class=\"gs-c-promo-heading__title gel-pica-bold nw-o-link-split__text\">Footballer denied 100th Spain cap by 'computer error'</h3>, <h3 class=\"gs-c-promo-heading__title gel-pica-bold nw-o-link-split__text\">The Rolling Stones' new album sets US chart record</h3>, <h3 class=\"gs-c-promo-heading__title gel-double-pica-bold nw-o-link-split__text\">A frosty day at a Finnish forest school</h3>, <h3 class=\"gs-c-promo-heading__title gel-pica-bold nw-o-link-split__text\">Why holiday shopping may surge</h3>, <h3 class=\"gs-c-promo-heading__title gel-pica-bold nw-o-link-split__text\">Scotland's tiny isle of just 110 people</h3>, <h3 class=\"gs-c-promo-heading__title gel-pica-bold nw-o-link-split__text\">12 TV shows to watch this November</h3>, <h3 class=\"gs-c-promo-heading__title gel-pica-bold nw-o-link-split__text\">The harm of dehumanising language</h3>, <h3 class=\"gs-c-promo-heading__title gel-pica-bold nw-o-link-split__text\">The 'Christmas creep' of holiday candy</h3>, <h3 class=\"gs-c-promo-heading__title gel-pica-bold nw-o-link-split__text\">The world's best tourism villages</h3>, <h3 class=\"gs-c-promo-heading__title gel-double-pica-bold nw-o-link-split__text\">South Africa on brink of huge win over New Zealand</h3>, <h3 class=\"gs-c-promo-heading__title gel-pica-bold nw-o-link-split__text\">England treatment of retiring Willey 'disgraceful'</h3>, <h3 class=\"gs-c-promo-heading__title gel-pica-bold nw-o-link-split__text\">FA writes to clubs after Choudhury's Israel-Gaza post</h3>, <h3 class=\"gs-c-promo-heading__title gel-pica-bold nw-o-link-split__text\">Maxwell out of England match after golf buggy fall</h3>, <h3 class=\"gs-c-promo-heading__title gel-pica-bold nw-o-link-split__text\">Hoogland smashes long-standing men's kilo record</h3>, <h3 class=\"gs-c-promo-heading__title gel-pica-bold nw-o-link-split__text\">TV on a golf buggy and the Man Utd effect</h3>, <h3 class=\"gs-c-promo-heading__title gel-pica-bold nw-o-link-split__text\">Zverev 'fined over allegations he abused ex-girlfriend'</h3>, <h3 class=\"gs-u-vh\">News daily newsletter</h3>, <h3 class=\"gs-u-vh\">Mobile app</h3>, <h3 class=\"gs-u-vh\">Get in touch</h3>]\n"
     ]
    }
   ],
   "source": [
    "print(article_headings)"
   ]
  },
  {
   "cell_type": "code",
   "execution_count": null,
   "id": "23e2752a",
   "metadata": {},
   "outputs": [],
   "source": [
    "\n",
    "for i in range(50):\n",
    "    "
   ]
  }
 ],
 "metadata": {
  "kernelspec": {
   "display_name": "Python 3 (ipykernel)",
   "language": "python",
   "name": "python3"
  },
  "language_info": {
   "codemirror_mode": {
    "name": "ipython",
    "version": 3
   },
   "file_extension": ".py",
   "mimetype": "text/x-python",
   "name": "python",
   "nbconvert_exporter": "python",
   "pygments_lexer": "ipython3",
   "version": "3.9.13"
  }
 },
 "nbformat": 4,
 "nbformat_minor": 5
}
