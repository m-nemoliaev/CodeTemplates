{
 "cells": [
  {
   "cell_type": "code",
   "execution_count": 2,
   "id": "050db362",
   "metadata": {},
   "outputs": [],
   "source": [
    "from bs4 import BeautifulSoup\n",
    "import requests"
   ]
  },
  {
   "cell_type": "code",
   "execution_count": 3,
   "id": "12988688",
   "metadata": {},
   "outputs": [],
   "source": [
    "url = \"https://www.bbc.com/news\"  # Replace with the URL you want to read\n",
    "response = requests.get(url)\n",
    "\n",
    "# Check if the request was successful\n",
    "if response.status_code == 200:\n",
    "    html_content = response.text\n",
    "else:\n",
    "    print(\"Failed to retrieve the web page.\")"
   ]
  },
  {
   "cell_type": "code",
   "execution_count": 4,
   "id": "817b5e08",
   "metadata": {},
   "outputs": [],
   "source": [
    "soup = BeautifulSoup(html_content, 'html5lib')"
   ]
  },
  {
   "cell_type": "code",
   "execution_count": 8,
   "id": "0f1d5e78",
   "metadata": {},
   "outputs": [
    {
     "name": "stdout",
     "output_type": "stream",
     "text": [
      "54\n"
     ]
    }
   ],
   "source": [
    "article_headings = soup.find_all('h3')\n",
    "print(len(article_headings))"
   ]
  },
  {
   "cell_type": "code",
   "execution_count": 9,
   "id": "67ebb51d",
   "metadata": {},
   "outputs": [
    {
     "name": "stdout",
     "output_type": "stream",
     "text": [
      "[<h3 class=\"gs-c-promo-heading__title gel-canon-bold nw-o-link-split__text\">Israel offensive presses deeper into Gaza as tank seen on key road</h3>, <h3 class=\"gs-c-promo-heading__title gel-pica-bold nw-o-link-split__text\">German-Israeli Shani Louk is dead, says mother</h3>, <h3 class=\"gs-c-promo-heading__title gel-pica-bold nw-o-link-split__text\">Watch: Tank appears to fire on car inside Gaza</h3>, <h3 class=\"gs-c-promo-heading__title gel-pica-bold nw-o-link-split__text\">Tanzanian students taken hostage by Hamas named</h3>, <h3 class=\"gs-c-promo-heading__title gel-pica-bold nw-o-link-split__text\">UN: Thousands raid Gaza aid depots to take supplies</h3>, <h3 class=\"gs-c-promo-heading__title gel-pica-bold nw-o-link-split__text\">What is happening in Israel and Gaza, and why now?</h3>, <h3 class=\"gs-c-promo-heading__title gel-paragon-bold nw-o-link-split__text\">Mob storms Russian airport searching for Jews</h3>, <h3 class=\"gs-c-promo-heading__title gel-pica-bold nw-o-link-split__text\">Trial of ex-officer in Breonna Taylor cases begins</h3>, <h3 class=\"gs-c-promo-heading__title gel-pica-bold nw-o-link-split__text\">US announces 'strongest action yet' on AI safety</h3>, <h3 class=\"gs-c-promo-heading__title gel-pica-bold nw-o-link-split__text\">Matthew Perry cause of death unknown pending tests</h3>, <h3 class=\"gs-c-promo-heading__title gel-pica-bold nw-o-link-split__text\">Murder at elite school horrifies Australia</h3>, <h3 class=\"gs-c-promo-heading__title gel-pica-bold nw-o-link-split__text\">Portuguese police apologise to Madeleine's parents</h3>, <h3 class=\"gs-c-promo-heading__title gel-pica-bold nw-o-link-split__text\">Gun shop turned Maine suspect away before shooting</h3>, <h3 class=\"gs-c-promo-heading__title gel-pica-bold nw-o-link-split__text\">Magic Johnson declared a billionaire by Forbes</h3>, <h3 class=\"gs-c-promo-heading__title gel-pica-bold nw-o-link-split__text\">Rubiales given three-year ban by Fifa over World Cup kiss</h3>, <h3 class=\"gs-c-promo-heading__title gel-pica-bold nw-o-link-split__text\">German politician held after Nazi salute complaint</h3>, <h3 class=\"gs-c-promo-heading__title gel-pica-bold nw-o-link-split__text\">Judge reinstates Trump gag order in election case</h3>, <h3 class=\"gs-c-promo-heading__title gel-pica-bold nw-o-link-split__text\">German politician held after Nazi salute complaint</h3>, <h3 class=\"gs-c-promo-heading__title gel-pica-bold nw-o-link-split__text\">Judge reinstates Trump gag order in election case</h3>, <h3 class=\"gs-c-promo-heading__title gel-pica-bold nw-o-link-split__text\">Police probe ice hockey death as fiancée pays tribute</h3>, <h3 class=\"gs-c-promo-heading__title gel-pica-bold nw-o-link-split__text\">Caterpillars struggle in climate change - study</h3>, <h3 class=\"gs-c-promo-heading__title gel-pica-bold nw-o-link-split__text\">Bond actor Pierce Brosnan shoots down gallery claim</h3>, <h3 class=\"gs-c-promo-heading__title gel-double-pica-bold nw-o-link-split__text\">Matthew Perry's life in pictures</h3>, <h3 class=\"gs-c-promo-heading__title gel-pica-bold nw-o-link-split__text\">BBC World News TV</h3>, <h3 class=\"gs-c-promo-heading__title gel-pica-bold nw-o-link-split__text\">BBC World Service Radio</h3>, <h3 class=\"gs-c-promo-heading__title gel-pica-bold nw-o-link-split__text\">Matthew Perry and Chandler: A match made in comedy heaven</h3>, <h3 class=\"gs-c-promo-heading__title gel-pica-bold nw-o-link-split__text\">Ice Spice and Adele dress in bold looks for Halloween</h3>, <h3 class=\"gs-c-promo-heading__title gel-pica-bold nw-o-link-split__text\">The 'alien invasion' that fooled the US</h3>, <h3 class=\"gs-c-promo-heading__title gel-pica-bold nw-o-link-split__text\">Coach addresses fans after ice hockey player's death</h3>, <h3 class=\"gs-c-promo-heading__title gel-pica-bold nw-o-link-split__text\">Czech president knocks soldier's hat off with flagpole</h3>, <h3 class=\"gs-c-promo-heading__title gel-double-pica-bold nw-o-link-split__text\">Beaten into a coma for taking extra food at school</h3>, <h3 class=\"gs-c-promo-heading__title gel-pica-bold nw-o-link-split__text\">Friends fame couldn't quell Perry's deep demons</h3>, <h3 class=\"gs-c-promo-heading__title gel-pica-bold nw-o-link-split__text\">Would you drink genetically modified beer?</h3>, <h3 class=\"gs-c-promo-heading__title gel-pica-bold nw-o-link-split__text\">Tears and relief in Maine after gunman's death</h3>, <h3 class=\"gs-c-promo-heading__title gel-pica-bold nw-o-link-split__text\">Leonormania hits Spain as crown princess turns 18</h3>, <h3 class=\"gs-c-promo-heading__title gel-pica-bold nw-o-link-split__text\">60-year search for our grandfathers' skulls led us to German museum</h3>, <h3 class=\"gs-c-promo-heading__title gel-pica-bold nw-o-link-split__text\">Ex-Zambia President Lungu makes political comeback</h3>, <h3 class=\"gs-c-promo-heading__title gel-double-pica-bold nw-o-link-split__text\">How right to repair might change tech</h3>, <h3 class=\"gs-c-promo-heading__title gel-pica-bold nw-o-link-split__text\">Why healthcare workers are striking</h3>, <h3 class=\"gs-c-promo-heading__title gel-pica-bold nw-o-link-split__text\">Japan's ancient skill of log rafting</h3>, <h3 class=\"gs-c-promo-heading__title gel-pica-bold nw-o-link-split__text\">The Buccaneers is the new Bridgerton</h3>, <h3 class=\"gs-c-promo-heading__title gel-pica-bold nw-o-link-split__text\">What alien languages might sound like</h3>, <h3 class=\"gs-c-promo-heading__title gel-pica-bold nw-o-link-split__text\">The dark side of touch-screen tipping</h3>, <h3 class=\"gs-c-promo-heading__title gel-pica-bold nw-o-link-split__text\">A Turkish secret hiding in plain sight</h3>, <h3 class=\"gs-c-promo-heading__title gel-double-pica-bold nw-o-link-split__text\">World Cup: Sri Lanka take third wicket with Afghanistan chasing 242</h3>, <h3 class=\"gs-c-promo-heading__title gel-pica-bold nw-o-link-split__text\">Problems facing Ten Hag - and was Rangnick right about Man Utd?</h3>, <h3 class=\"gs-c-promo-heading__title gel-pica-bold nw-o-link-split__text\">Broncos stun Chiefs and rookie Levis stars on debut</h3>, <h3 class=\"gs-c-promo-heading__title gel-pica-bold nw-o-link-split__text\">BBC Women's Footballer of the Year 2023: Alexandra Popp profile</h3>, <h3 class=\"gs-c-promo-heading__title gel-pica-bold nw-o-link-split__text\">'Questions on Perez future as he fights Hamilton'</h3>, <h3 class=\"gs-c-promo-heading__title gel-pica-bold nw-o-link-split__text\">What needs to change at Man Utd after derby defeat?</h3>, <h3 class=\"gs-c-promo-heading__title gel-pica-bold nw-o-link-split__text\">Sabalenka feels 'disrespected' by WTA at Finals</h3>, <h3 class=\"gs-u-vh\">News daily newsletter</h3>, <h3 class=\"gs-u-vh\">Mobile app</h3>, <h3 class=\"gs-u-vh\">Get in touch</h3>]\n"
     ]
    }
   ],
   "source": [
    "print(article_headings)"
   ]
  },
  {
   "cell_type": "code",
   "execution_count": null,
   "id": "23e2752a",
   "metadata": {},
   "outputs": [],
   "source": []
  }
 ],
 "metadata": {
  "kernelspec": {
   "display_name": "Python 3 (ipykernel)",
   "language": "python",
   "name": "python3"
  },
  "language_info": {
   "codemirror_mode": {
    "name": "ipython",
    "version": 3
   },
   "file_extension": ".py",
   "mimetype": "text/x-python",
   "name": "python",
   "nbconvert_exporter": "python",
   "pygments_lexer": "ipython3",
   "version": "3.9.13"
  }
 },
 "nbformat": 4,
 "nbformat_minor": 5
}
